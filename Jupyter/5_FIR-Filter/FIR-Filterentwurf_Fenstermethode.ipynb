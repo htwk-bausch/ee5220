{
 "cells": [
  {
   "cell_type": "markdown",
   "id": "155abda9-7e8d-4664-8931-0aeaf60ffc6b",
   "metadata": {},
   "source": [
    "# FIR-Filterentwurf am Beispiel"
   ]
  },
  {
   "cell_type": "code",
   "execution_count": null,
   "id": "e4a22e24-8ef9-4b91-9dbb-a2c231f40cdd",
   "metadata": {},
   "outputs": [],
   "source": [
    "!conda install -y -q numpy\n",
    "!conda install -y -q matplotlib\n",
    "!conda install -y -q scipy\n",
    "\n",
    "import numpy as np\n",
    "import matplotlib.pyplot as plt\n",
    "import scipy.signal\n",
    "\n",
    "import coeff2header\n",
    "\n",
    "%config InlineBackend.figure_format = 'retina'\n",
    "%matplotlib inline"
   ]
  },
  {
   "cell_type": "markdown",
   "id": "2d973f72-41f1-4ed2-9bc6-54abbd16326f",
   "metadata": {},
   "source": [
    "## Schritt 1: Spezifikation der Filtereigenschaften"
   ]
  },
  {
   "cell_type": "code",
   "execution_count": null,
   "id": "c012883d-2200-4326-b0ed-df106fc9ce86",
   "metadata": {},
   "outputs": [],
   "source": [
    "# Filter-Spezifikation\n",
    "fsample = 8000          # Abtastfrequenz\n",
    "fp      = 1200          # Passband-Eckfrequenz\n",
    "fs      = 1800          # Stopband-Eckfrequenz\n",
    "nyq     = fsample/2     # Nyquist-Frequenz\n",
    "\n",
    "fcutoff = fp+(fs-fp)/2   # Cutoff-Frequenz wird genau zwischen Passband- und Stopband-Eckfrequenz gelegt (für Tiefpass)\n",
    "#fcutoff = fp-(fp-fs)/2   # Cutoff-Frequenz wird genau zwischen Passband- und Stopband-Eckfrequenz gelegt (für Hochpass)"
   ]
  },
  {
   "cell_type": "markdown",
   "id": "763c5dec-32f4-48e9-81a2-225396698e3d",
   "metadata": {},
   "source": [
    "## Schritt 2a: Entwurf mit Hann-Fenster"
   ]
  },
  {
   "cell_type": "code",
   "execution_count": null,
   "id": "04dcb51b-2722-44fb-86d8-11061b7caf5b",
   "metadata": {},
   "outputs": [],
   "source": [
    "# Anzahl an Filterkoeffizienten\n",
    "numtaps = 51\n",
    "\n",
    "# Berechnung der Filterkoeffizienten für ein Tiefpass mit Hann-Fenster\n",
    "# Dokumentation: https://docs.scipy.org/doc/scipy/reference/generated/scipy.signal.firwin.html\n",
    "taps = scipy.signal.firwin(numtaps, (fcutoff/nyq), pass_zero=\"lowpass\", window=\"hann\")"
   ]
  },
  {
   "cell_type": "markdown",
   "id": "583cd64d-2551-46ac-bb5f-7319c91f50e2",
   "metadata": {},
   "source": [
    "## Schritt 2b: Entwurf mit Kaiser-Fenster"
   ]
  },
  {
   "cell_type": "code",
   "execution_count": null,
   "id": "6a123335-b563-4931-95df-00e5155256c6",
   "metadata": {},
   "outputs": [],
   "source": [
    "# Dämpfung im Stoppband (in dB)\n",
    "attn = 60\n",
    "\n",
    "# Berechnung der Anzahl an Filterkoeffizienten sowie Beta-Wert für\n",
    "# eine gewünschte Dämpfung und Übergangbereichsbreite\n",
    "# Dokumentation: https://docs.scipy.org/doc/scipy/reference/generated/scipy.signal.kaiserord.html\n",
    "numtaps, beta = scipy.signal.kaiserord(attn, (fs-fp)/nyq)\n",
    "\n",
    "# Berechnung der Filterkoeffizienten\n",
    "taps = scipy.signal.firwin(numtaps, (fcutoff/nyq), window=('kaiser', beta))"
   ]
  },
  {
   "cell_type": "markdown",
   "id": "10ffbfa8-762c-4736-b431-19ab5ca3686e",
   "metadata": {},
   "source": [
    "## Schritt 3: Verifikation der Filtereigenschaften"
   ]
  },
  {
   "cell_type": "code",
   "execution_count": null,
   "id": "1e2a068c-c750-403e-8e86-01c8918e7aa1",
   "metadata": {},
   "outputs": [],
   "source": [
    "# Berechnung der Frequenzantwort aus den Filterkoeffizienten\n",
    "w, Hd = scipy.signal.freqz(taps)\n",
    "\n",
    "# Grafische Darstellung\n",
    "plt.figure(figsize=(14,6))\n",
    "plt.plot((w/np.pi)*(fsample/2), 20*np.log10(np.abs(Hd)))\n",
    "plt.xlabel('Frequenz (Hz)')\n",
    "plt.ylabel('Verstärkung (dB)')\n",
    "plt.title('Frequenzantwort (Filterkoeffizienten: %d)' % (numtaps));\n",
    "plt.grid()"
   ]
  },
  {
   "cell_type": "markdown",
   "id": "62f388b9-3e29-4d27-9e78-46648cf75443",
   "metadata": {},
   "source": [
    "## Schritt 4: Export der Koeffizienten"
   ]
  },
  {
   "cell_type": "code",
   "execution_count": null,
   "id": "508c6531-57a2-4a19-8953-f40f554de619",
   "metadata": {},
   "outputs": [],
   "source": [
    "# Die Filterkoeffizienten werden als C-Header-Datei in 'fir_export.h' abgelegt und können direkt in ein C-Programm übernommen werden\n",
    "coeff2header.FIR_header('fir_export.h', taps)"
   ]
  }
 ],
 "metadata": {
  "kernelspec": {
   "display_name": "Python 3 (ipykernel)",
   "language": "python",
   "name": "python3"
  },
  "language_info": {
   "codemirror_mode": {
    "name": "ipython",
    "version": 3
   },
   "file_extension": ".py",
   "mimetype": "text/x-python",
   "name": "python",
   "nbconvert_exporter": "python",
   "pygments_lexer": "ipython3",
   "version": "3.8.12"
  }
 },
 "nbformat": 4,
 "nbformat_minor": 5
}
