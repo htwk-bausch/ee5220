{
 "cells": [
  {
   "cell_type": "markdown",
   "id": "155abda9-7e8d-4664-8931-0aeaf60ffc6b",
   "metadata": {},
   "source": [
    "# FIR-Filterentwurf"
   ]
  },
  {
   "cell_type": "code",
   "execution_count": null,
   "id": "e4a22e24-8ef9-4b91-9dbb-a2c231f40cdd",
   "metadata": {},
   "outputs": [],
   "source": [
    "import numpy as np\n",
    "import matplotlib.pyplot as plt\n",
    "import scipy.signal\n",
    "\n",
    "import scipy.signal\n",
    "import scipy.io.wavfile\n",
    "\n",
    "import IPython.display as ipd\n",
    "\n",
    "%config InlineBackend.figure_format = 'retina'\n",
    "%matplotlib inline"
   ]
  },
  {
   "cell_type": "markdown",
   "id": "9aa37a72-a574-452a-b105-3394384f4b64",
   "metadata": {},
   "source": [
    "## 1. Testsignal laden und analysieren"
   ]
  },
  {
   "cell_type": "code",
   "execution_count": null,
   "id": "8832e964-e4fb-44d9-8cd9-0c03967466bb",
   "metadata": {},
   "outputs": [],
   "source": [
    "# Testsignal laden\n",
    "sampling_rate, signal = scipy.io.wavfile.read('../data/audiocheck.net_whitenoisegaussian.wav')\n",
    "ipd.Audio(signal, rate=sampling_rate)"
   ]
  },
  {
   "cell_type": "code",
   "execution_count": null,
   "id": "7951017f-8341-4211-8a88-e7974ae3f396",
   "metadata": {},
   "outputs": [],
   "source": [
    "# FFT des Testsignals\n",
    "N = 1024   # 1024-Punkt FFT\n",
    "\n",
    "fft_result = np.fft.fft(signal, n=N, norm='forward')\n",
    "fft_freq   = np.fft.fftfreq(N, d=1/sampling_rate)\n",
    "\n",
    "# Plot\n",
    "plt.figure(figsize=(15,5))\n",
    "plt.plot(fft_freq[:N//2], 2*np.abs(fft_result[:N//2])/N)\n",
    "plt.xlabel('Frequenz [Hz]')\n",
    "plt.ylabel('Betrag')\n",
    "plt.title('Weißes Rauschen')\n",
    "plt.grid()"
   ]
  },
  {
   "cell_type": "markdown",
   "id": "2d973f72-41f1-4ed2-9bc6-54abbd16326f",
   "metadata": {},
   "source": [
    "## 2. Entwurf eines Filters"
   ]
  },
  {
   "cell_type": "code",
   "execution_count": null,
   "id": "c2ff6a63-2d50-4bcf-a4ce-e22851cad8dc",
   "metadata": {},
   "outputs": [],
   "source": []
  },
  {
   "cell_type": "markdown",
   "id": "10ffbfa8-762c-4736-b431-19ab5ca3686e",
   "metadata": {},
   "source": [
    "### 2.1 Verifikation der Filtereigenschaften"
   ]
  },
  {
   "cell_type": "code",
   "execution_count": null,
   "id": "1e2a068c-c750-403e-8e86-01c8918e7aa1",
   "metadata": {},
   "outputs": [],
   "source": []
  },
  {
   "cell_type": "markdown",
   "id": "62f388b9-3e29-4d27-9e78-46648cf75443",
   "metadata": {},
   "source": [
    "## 3. Filterung des Signals"
   ]
  },
  {
   "cell_type": "code",
   "execution_count": null,
   "id": "508c6531-57a2-4a19-8953-f40f554de619",
   "metadata": {},
   "outputs": [],
   "source": []
  },
  {
   "cell_type": "markdown",
   "id": "0de3b688-4ce6-4305-9046-886ab0c827fe",
   "metadata": {},
   "source": [
    "## 4. Spektrum des gefilterten Signals"
   ]
  },
  {
   "cell_type": "code",
   "execution_count": null,
   "id": "924404d5-6772-47f5-8723-acd7e86dd461",
   "metadata": {},
   "outputs": [],
   "source": []
  }
 ],
 "metadata": {
  "kernelspec": {
   "display_name": "Python 3 (ipykernel)",
   "language": "python",
   "name": "python3"
  },
  "language_info": {
   "codemirror_mode": {
    "name": "ipython",
    "version": 3
   },
   "file_extension": ".py",
   "mimetype": "text/x-python",
   "name": "python",
   "nbconvert_exporter": "python",
   "pygments_lexer": "ipython3",
   "version": "3.8.12"
  }
 },
 "nbformat": 4,
 "nbformat_minor": 5
}
